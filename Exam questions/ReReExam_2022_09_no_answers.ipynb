{
 "cells": [
  {
   "cell_type": "markdown",
   "metadata": {},
   "source": [
    "# Graph Theory Questions for Jupyter-based Exam"
   ]
  },
  {
   "cell_type": "markdown",
   "metadata": {},
   "source": [
    "## Instructions\n",
    "1. You may use any source of information you can find, so long as you don't communicate with anyone else.\n",
    "2. You can put your answers in the marked cells. If you prefer making multiple answer cells that's also ok, but make sure I know which question you're answering where.\n",
    "3. You can split up code answers into multiple cells if you like, but keep them in order for me to grade!\n",
    "3. You get partial points for partial answers. This means you can still get points for coding questions if you explain your reasoning, but don't manage the code itself.\n",
    "4. You have 120 minutes total for the exam (unless you are eligible for \"Special Facilities\"), distribute it wisely amongst questions.\n",
    "5. Remember you can look up the documentation of any function or object by appending \"?\" (question mark) to it without calling it with \"()\"; this is the same documentation as you'd look up on the internet! See an example in the next cell.\n",
    "4. Unless specified otherwise you may assume graphs are simple and undirected.\n",
    "6. Your final grade will be `score / 70 * 9 + 1`\n"
   ]
  },
  {
   "cell_type": "markdown",
   "metadata": {},
   "source": [
    "# -- BEGIN EXAM --\n",
    "Good luck!\n",
    "*Don't forget to run the global imports defined in the next cell!!!*"
   ]
  },
  {
   "cell_type": "code",
   "execution_count": 3,
   "metadata": {},
   "outputs": [],
   "source": [
    "# Global definitions you will need are here; RUN THIS CELL\n",
    "# Define any extra global modules you want to add yourself here as well!\n",
    "# As well as any extra helper functions you want to use in all exercises below.\n",
    "import networkx as nx\n",
    "import pickle\n",
    "import random\n",
    "import matplotlib.pyplot as plt\n",
    "%matplotlib inline"
   ]
  },
  {
   "cell_type": "code",
   "execution_count": 4,
   "metadata": {},
   "outputs": [],
   "source": [
    "# Example for how to get documentation from within the notebook\n",
    "nx.Graph?"
   ]
  },
  {
   "cell_type": "markdown",
   "metadata": {},
   "source": [
    "## Question 1 (10pt)\n",
    "\n",
    "Answer the following questions.\n",
    "\n",
    "1. What is the definition of an Eulerian cycle?\n",
    "1. What is the definition of a Hamiltonian cycle?\n",
    "1. Given a graph consisting of $n$ nodes and $k$ edges, what is the size of the Eulerian cycle of this graph (assuming it exists)?\n",
    "1. Given a graph consisting of $n$ nodes and $k$ edges, what is the size of the Hamiltonian cycle of this graph (assuming it exists)?\n",
    "1. What criteria must a graph meet for an Eulerian cycle to exist? And an Eulerian tour?\n",
    "1. Explain in your own words what the following means, given that the function $d(a, b)$ signifies the length of the  shortest path between nodes $a$ and $b$: $x = \\max\\limits_{u \\in V} \\max\\limits_{v \\in V} d(u, v) $. The quantity $x$ has a name; what is its name?\n",
    "1. Explain in your own words what the following means, given that the function $d(a, b)$ signifies the length of the  shortest path between nodes $a$ and $b$: $y = \\min\\limits_{u \\in V} \\max\\limits_{v \\in V} d(u, v) $. The quantity $y$ has a name; what is its name?"
   ]
  },
  {
   "cell_type": "code",
   "execution_count": 4,
   "metadata": {},
   "outputs": [],
   "source": [
    "## Answers to question 1\n"
   ]
  },
  {
   "cell_type": "markdown",
   "metadata": {},
   "source": [
    "## Question 2 (20pt)\n",
    "\n",
    "1. Take a look at the file \"foodwebs.txt\". It models the predatory relationships in a marine ecosystem (\"who eats whom\"). Each line in the file contains at least 2 values, separated by commas. The first value is a \"Species\", and all other values on the line are \"Species they feed on\". The latter lists for every species the other species in the table that they eat. (Except for the so-called \"primary producers\" like the seaweed Kelp which \"eat\" inorganic resources like sunlight. These have a prey list denoted \"-\"). For example, \"Shark\" eats \"Sea otter\"; and \"Sea stars\" eats \"Abalone\", \"small herbivorous fishes\", and \"sea urchins\". This web can be modeled as a digraph; the species are in vertices and arcs represent an \"eaten by\" relationship between two species (from prey to predator). Construct such a digraph by parsing the \"foodwebs.txt\" comma-separated-file and using the appropriate NetworkX objects. Plot this digraph as well and check that it is weakly connected.\n",
    "  \n",
    "  If you don't manage, use the following code snippet to continue. You will then get 0 points on this subquestion, however.\n",
    "  ```py\n",
    "  with open('foodweb.pickle', 'rb') as jar:\n",
    "       digraph = pickle.load(jar)\n",
    "  ```\n",
    "\n",
    "2. Ecologists like to understand an ecosystem in terms of trophic levels, that is groups of predators which eat prey of comparable size/type (sometimes also called an ecological \"niche\"). Let's try to infer these trophic levels automatically from our dataset, using network methods. We can imagine two different methods:\n",
    "\n",
    "  - The first possible definition of a trophic level of species X is: i. 0 if X is a primary producer in the food web (a species that does not consume any species in the food web). ii. k if the shortest path from a level 0 species to X is of length k.\n",
    "  - The second possible definition of a trophic level of species X is: i. 0 if X is a primary producer in the food web (a species that does not consume any species in the food web). ii. k if the longest path from a level 0 species to X is of length k.\n",
    "  \n",
    "  Implement both these possible definitions as the functions \"trophic_short\" and \"trophic_long\" respectively and calculate the trophic level for all species in the foodweb with both functions.\n",
    "\n",
    "3. Which of the two methods results in trophic levels which best matches the idea of a \"trophic level\" discussed above, of predators which feast on similar type/size of prey? Provide arguments for your answer!"
   ]
  },
  {
   "cell_type": "code",
   "execution_count": null,
   "metadata": {},
   "outputs": [],
   "source": [
    "## Answers to Question 2\n"
   ]
  },
  {
   "cell_type": "markdown",
   "metadata": {},
   "source": [
    "## Question 3 (20 pt)\n",
    "\n",
    "The Davis southern women graph is constructed from data collected by Davis et al. in the 1930s. They tracked the attendence of a number of women to several social clubs.\n",
    "\n",
    "1. Load the graph in the file \"dwcg.gml\". This file is in GML format. If you don't manage, use the following snippet to get 0 point at this subquestion: `graph = nx.davis_southern_women_graph()`.\n",
    "1. What class/type of graph is this? Be as specific as possible\n",
    "1. How many social clubs are there? How many women?\n",
    "1. Plot a histogram of the sizes of the clubs, and a histogram of the number of clubs women are part of.\n",
    "1. Which clubs have the most members in common?"
   ]
  },
  {
   "cell_type": "code",
   "execution_count": null,
   "metadata": {},
   "outputs": [],
   "source": [
    "## Answers to Question 3"
   ]
  },
  {
   "cell_type": "markdown",
   "metadata": {},
   "source": [
    "## Question 4 (20 pt)\n",
    "\n",
    "Caveman graphs are defined as a graph consisting of $l$ disconnected cliques of size $k$. Networkx has a convenient function for generating these: `nx.caveman_graph`. In this caveman graph there are clear communities: the original cliques used to construct this graph. Finding communities in general is pretty hard, but in this specific case they are so obvious existing algorithms will (should) manage without issue. \n",
    "\n",
    "In this question you will investigate the quality of a few different embeddings algorithms using a caveman graph.\n",
    "\n",
    "1. Write a function that does the following:\n",
    "\n",
    "  a. Generate a caveman graph with l=5, k=10.\n",
    "  \n",
    "  b. Add random edges to the generated graph until the graph is connected and at least 20 edges have been added.\n",
    "\n",
    "  If you don't manage, use the following snippet to get 0 points for this subquestion.\n",
    "```py\n",
    "    with open('caveman.pickle', 'rb') as jar:\n",
    "        caveman_graph = pickle.load(jar)\n",
    "```\n",
    "\n",
    "2. Browse through the networkx documentation until you find an appropriate function to find the communities in your connected caveman graph. Make sure you find 5 communities of 10 nodes each. If you don't manage, use the following 5 communities: `{0-9}, {10-19}, {20-29}, {30-39}, {40-49}`.\n",
    "\n",
    "3. In your own words, what is graph embedding? What are desirable properties for an embedding?\n",
    "\n",
    "4. Embed your caveman graph. Use an existing networkx function.\n",
    "\n",
    "5. Given the communities you found in 2., and the embedding you generated in 4., calculate for each community the average Euclidean distance between nodes within each community, and compare that to the Euclidean distances between communities. Note: For this question you do *not* need the distance in the graph (i.e. the number of edges between nodes), but the Euclidean distance in your embedding.\n",
    "6. Is the embedding method you chose any good? Compare it with 2 other embedding methods. Does it matter in how many dimensions you embed the graph?\n"
   ]
  },
  {
   "cell_type": "code",
   "execution_count": null,
   "metadata": {},
   "outputs": [],
   "source": [
    "## Answers to Question 4"
   ]
  },
  {
   "cell_type": "markdown",
   "metadata": {},
   "source": [
    "# --- END OF EXAM ---\n",
    "Congrats, you made it to the end of the exam! Don't forget to rename your ipynb to \"GTReReExamSept_YOUR_NAME_STUDENTNR.ipynb\" and hand it in via BlackBoard submit!"
   ]
  },
  {
   "cell_type": "code",
   "execution_count": null,
   "metadata": {},
   "outputs": [],
   "source": []
  }
 ],
 "metadata": {
  "kernelspec": {
   "display_name": "Python 3 (ipykernel)",
   "language": "python",
   "name": "python3"
  },
  "language_info": {
   "codemirror_mode": {
    "name": "ipython",
    "version": 3
   },
   "file_extension": ".py",
   "mimetype": "text/x-python",
   "name": "python",
   "nbconvert_exporter": "python",
   "pygments_lexer": "ipython3",
   "version": "3.9.13"
  }
 },
 "nbformat": 4,
 "nbformat_minor": 4
}
