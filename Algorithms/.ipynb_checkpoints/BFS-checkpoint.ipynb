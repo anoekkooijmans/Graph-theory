{
 "cells": [
  {
   "cell_type": "markdown",
   "id": "47b692f6",
   "metadata": {},
   "source": [
    "[Breadth-first search (BFS)](https://en.wikipedia.org/wiki/Breadth-first_search) is an algorithm for searching a tree data structure dor a node that satisfies a given property. It starts at the tree root and explores all nodes at the present depth prio ro moving on to the nodes at the next depth level. "
   ]
  },
  {
   "cell_type": "code",
   "execution_count": 5,
   "id": "a65374f5",
   "metadata": {},
   "outputs": [],
   "source": [
    "from collections import deque\n",
    "import networkx as nx\n",
    "import matplotlib.pyplot as plt"
   ]
  },
  {
   "cell_type": "code",
   "execution_count": null,
   "id": "cc1e6564",
   "metadata": {},
   "outputs": [],
   "source": [
    "procedure BFS(G, root) is\n",
    "\n",
    "    let Q be a queue\n",
    "    label root as explored\n",
    "    Q.enqueue(root)\n",
    "    \n",
    "    while Q is not empty do\n",
    "        v := Q.dequeue()\n",
    "        if v is the goal then\n",
    "               return v\n",
    "        \n",
    "        for all edges from v to w in G.adjacentEdges(v) do\n",
    "              \n",
    "            if w is not labeled as explored then\n",
    "                label w as explored\n",
    "                w.parent := v\n",
    "                Q.enqueue(w)"
   ]
  },
  {
   "cell_type": "code",
   "execution_count": 10,
   "id": "87a83457",
   "metadata": {},
   "outputs": [],
   "source": [
    "def BFS(graph,root,goal):\n",
    "    \n",
    "    # Create an empty queue\n",
    "    queue = deque()\n",
    "    \n",
    "    # Label the root node as explored\n",
    "    explored = set()\n",
    "    explored.add(root)\n",
    "    \n",
    "    # Enqueue the root node\n",
    "    queue.append(root)\n",
    "    \n",
    "    while queue:\n",
    "        # Dequeue a node from the queue\n",
    "        current_node = queue.popleft()\n",
    "        \n",
    "        # Check if the current node is the goal\n",
    "        if current_node == goal:\n",
    "            return current_node\n",
    "        \n",
    "        # Explore all adjacent nodes\n",
    "        for neighbor in graph[current_node]:\n",
    "            if neighbor not in explored:\n",
    "                # Label the neighbor node as explored\n",
    "                explored.add(neighbor)\n",
    "                \n",
    "                # Set the parent of the neighbor node\n",
    "                graph.nodes[neighbor]['parent'] = current_node\n",
    "                \n",
    "                # Enqueue the neighbor node\n",
    "                queue.append(neighbor)\n",
    "    \n",
    "    # Goal not found\n",
    "    return None"
   ]
  },
  {
   "cell_type": "code",
   "execution_count": 6,
   "id": "7cdd9707",
   "metadata": {},
   "outputs": [
    {
     "data": {
      "image/png": "[encoded data removed]",
      "text/plain": [
       "<Figure size 640x480 with 1 Axes>"
      ]
     },
     "metadata": {},
     "output_type": "display_data"
    }
   ],
   "source": [
    "# Define graph\n",
    "graph = nx.Graph()\n",
    "edges = [('A', 'B'), ('A', 'C'), ('B', 'D'), ('B', 'E'), ('C', 'F'), ('E', 'F')]\n",
    "graph.add_edges_from(edges)\n",
    "\n",
    "# Plot the graph\n",
    "pos = nx.spring_layout(graph)\n",
    "nx.draw_networkx(graph, pos, with_labels=True, node_color='lightblue', node_size=500, font_size=12)\n",
    "nx.draw_networkx_edges(graph, pos, width=1.0, alpha=0.5)\n",
    "plt.title('Graph')\n",
    "plt.axis('off')\n",
    "plt.show()"
   ]
  },
  {
   "cell_type": "code",
   "execution_count": 14,
   "id": "35e4370f",
   "metadata": {},
   "outputs": [
    {
     "name": "stdout",
     "output_type": "stream",
     "text": [
      "F\n"
     ]
    }
   ],
   "source": [
    "# Apply BFS to the graph\n",
    "result = BFS(graph, 'A', 'F')\n",
    "print(result)"
   ]
  },
  {
   "cell_type": "code",
   "execution_count": 13,
   "id": "32fbca69",
   "metadata": {},
   "outputs": [
    {
     "name": "stdout",
     "output_type": "stream",
     "text": [
      "None\n"
     ]
    }
   ],
   "source": [
    "# Apply BFS to the graph\n",
    "result = BFS(graph, 'A', 'G')\n",
    "print(result)"
   ]
  }
 ],
 "metadata": {
  "kernelspec": {
   "display_name": "Python 3 (ipykernel)",
   "language": "python",
   "name": "python3"
  },
  "language_info": {
   "codemirror_mode": {
    "name": "ipython",
    "version": 3
   },
   "file_extension": ".py",
   "mimetype": "text/x-python",
   "name": "python",
   "nbconvert_exporter": "python",
   "pygments_lexer": "ipython3",
   "version": "3.9.13"
  }
 },
 "nbformat": 4,
 "nbformat_minor": 5
}
